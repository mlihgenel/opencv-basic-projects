{
 "cells": [
  {
   "cell_type": "markdown",
   "id": "d28c3ece",
   "metadata": {},
   "source": [
    "# HSV Maskeleme (Notebook Uyumu)\n",
    "OpenCV ile HSV renk aralığında maskeleme ve sonucu matplotlib ile görselleştirme."
   ]
  },
  {
   "cell_type": "code",
   "execution_count": null,
   "id": "9d6808da",
   "metadata": {},
   "outputs": [],
   "source": [
    "\n",
    "import cv2\n",
    "import numpy as np\n",
    "import matplotlib.pyplot as plt\n"
   ]
  },
  {
   "cell_type": "code",
   "execution_count": null,
   "id": "6cf79c04",
   "metadata": {},
   "outputs": [],
   "source": [
    "\n",
    "# Görseli oku ve boyutlandır\n",
    "image = cv2.imread(\"gorsel.jpg\")\n",
    "image = cv2.resize(image, (640, 480))\n",
    "\n",
    "# BGR -> HSV\n",
    "hsv = cv2.cvtColor(image, cv2.COLOR_BGR2HSV)\n"
   ]
  },
  {
   "cell_type": "code",
   "execution_count": null,
   "id": "d98ed197",
   "metadata": {},
   "outputs": [],
   "source": [
    "\n",
    "# HSV aralığını belirle (örnek: kivi yeşili)\n",
    "lower = np.array([45, 80, 120])\n",
    "upper = np.array([75, 255, 255])\n",
    "\n",
    "# Maske oluştur ve uygula\n",
    "mask = cv2.inRange(hsv, lower, upper)\n",
    "result = cv2.bitwise_and(image, image, mask=mask)\n"
   ]
  },
  {
   "cell_type": "code",
   "execution_count": null,
   "id": "2d8f0963",
   "metadata": {},
   "outputs": [],
   "source": [
    "\n",
    "# Görseli matplotlib ile göster\n",
    "# BGR -> RGB çevir (matplotlib uyumluluğu)\n",
    "image_rgb = cv2.cvtColor(image, cv2.COLOR_BGR2RGB)\n",
    "result_rgb = cv2.cvtColor(result, cv2.COLOR_BGR2RGB)\n",
    "\n",
    "# Görselleri çiz\n",
    "plt.figure(figsize=(15, 5))\n",
    "\n",
    "plt.subplot(1, 3, 1)\n",
    "plt.title(\"Original\")\n",
    "plt.imshow(image_rgb)\n",
    "plt.axis(\"off\")\n",
    "\n",
    "plt.subplot(1, 3, 2)\n",
    "plt.title(\"Mask\")\n",
    "plt.imshow(mask, cmap=\"gray\")\n",
    "plt.axis(\"off\")\n",
    "\n",
    "plt.subplot(1, 3, 3)\n",
    "plt.title(\"Result\")\n",
    "plt.imshow(result_rgb)\n",
    "plt.axis(\"off\")\n",
    "\n",
    "plt.tight_layout()\n",
    "plt.show()\n"
   ]
  }
 ],
 "metadata": {},
 "nbformat": 4,
 "nbformat_minor": 5
}
